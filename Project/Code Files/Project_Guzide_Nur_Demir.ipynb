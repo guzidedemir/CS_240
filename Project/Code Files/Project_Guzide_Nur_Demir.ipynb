{
 "cells": [
  {
   "cell_type": "markdown",
   "metadata": {},
   "source": [
    "# CS 240 - Exploratory Data Analysis\n",
    "\n",
    "### Güzide Nur Demir\n",
    "### 215150432\n",
    "\n",
    "\n",
    "\n"
   ]
  },
  {
   "cell_type": "markdown",
   "metadata": {},
   "source": [
    "#### Section 1"
   ]
  },
  {
   "cell_type": "markdown",
   "metadata": {},
   "source": [
    "In this project, i have used NBA players and coaches from the dataset. I'm trying to answer whether there is negative relationship between number of lost games for coaches and number of assists by the players in same year or not."
   ]
  },
  {
   "cell_type": "markdown",
   "metadata": {},
   "source": [
    "#### Section 2"
   ]
  },
  {
   "cell_type": "code",
   "execution_count": 1,
   "metadata": {},
   "outputs": [
    {
     "data": {
      "text/html": [
       "<div>\n",
       "<style scoped>\n",
       "    .dataframe tbody tr th:only-of-type {\n",
       "        vertical-align: middle;\n",
       "    }\n",
       "\n",
       "    .dataframe tbody tr th {\n",
       "        vertical-align: top;\n",
       "    }\n",
       "\n",
       "    .dataframe thead th {\n",
       "        text-align: right;\n",
       "    }\n",
       "</style>\n",
       "<table border=\"1\" class=\"dataframe\">\n",
       "  <thead>\n",
       "    <tr style=\"text-align: right;\">\n",
       "      <th></th>\n",
       "      <th>coachID</th>\n",
       "      <th>year</th>\n",
       "      <th>tmID</th>\n",
       "      <th>lgID</th>\n",
       "      <th>stint</th>\n",
       "      <th>won</th>\n",
       "      <th>lost</th>\n",
       "      <th>post_wins</th>\n",
       "      <th>post_losses</th>\n",
       "    </tr>\n",
       "  </thead>\n",
       "  <tbody>\n",
       "    <tr>\n",
       "      <th>0</th>\n",
       "      <td>johnsne01</td>\n",
       "      <td>1961</td>\n",
       "      <td>PGR</td>\n",
       "      <td>ABL1</td>\n",
       "      <td>1</td>\n",
       "      <td>41.0</td>\n",
       "      <td>40.0</td>\n",
       "      <td>0.0</td>\n",
       "      <td>1.0</td>\n",
       "    </tr>\n",
       "    <tr>\n",
       "      <th>1</th>\n",
       "      <td>auerbre01</td>\n",
       "      <td>1946</td>\n",
       "      <td>WSC</td>\n",
       "      <td>NBA</td>\n",
       "      <td>1</td>\n",
       "      <td>49.0</td>\n",
       "      <td>11.0</td>\n",
       "      <td>2.0</td>\n",
       "      <td>4.0</td>\n",
       "    </tr>\n",
       "    <tr>\n",
       "      <th>2</th>\n",
       "      <td>birchpa01</td>\n",
       "      <td>1946</td>\n",
       "      <td>PIT</td>\n",
       "      <td>NBA</td>\n",
       "      <td>1</td>\n",
       "      <td>15.0</td>\n",
       "      <td>45.0</td>\n",
       "      <td>0.0</td>\n",
       "      <td>0.0</td>\n",
       "    </tr>\n",
       "    <tr>\n",
       "      <th>3</th>\n",
       "      <td>cliffro01</td>\n",
       "      <td>1946</td>\n",
       "      <td>CLR</td>\n",
       "      <td>NBA</td>\n",
       "      <td>2</td>\n",
       "      <td>13.0</td>\n",
       "      <td>10.0</td>\n",
       "      <td>1.0</td>\n",
       "      <td>2.0</td>\n",
       "    </tr>\n",
       "    <tr>\n",
       "      <th>4</th>\n",
       "      <td>cohalne01</td>\n",
       "      <td>1946</td>\n",
       "      <td>NYK</td>\n",
       "      <td>NBA</td>\n",
       "      <td>1</td>\n",
       "      <td>33.0</td>\n",
       "      <td>27.0</td>\n",
       "      <td>2.0</td>\n",
       "      <td>3.0</td>\n",
       "    </tr>\n",
       "    <tr>\n",
       "      <th>5</th>\n",
       "      <td>curtigl01</td>\n",
       "      <td>1946</td>\n",
       "      <td>DTF</td>\n",
       "      <td>NBA</td>\n",
       "      <td>1</td>\n",
       "      <td>12.0</td>\n",
       "      <td>22.0</td>\n",
       "      <td>0.0</td>\n",
       "      <td>0.0</td>\n",
       "    </tr>\n",
       "    <tr>\n",
       "      <th>6</th>\n",
       "      <td>dehnere01</td>\n",
       "      <td>1946</td>\n",
       "      <td>CLR</td>\n",
       "      <td>NBA</td>\n",
       "      <td>1</td>\n",
       "      <td>17.0</td>\n",
       "      <td>20.0</td>\n",
       "      <td>0.0</td>\n",
       "      <td>0.0</td>\n",
       "    </tr>\n",
       "    <tr>\n",
       "      <th>7</th>\n",
       "      <td>fitzgdi01</td>\n",
       "      <td>1946</td>\n",
       "      <td>TRH</td>\n",
       "      <td>NBA</td>\n",
       "      <td>1</td>\n",
       "      <td>2.0</td>\n",
       "      <td>1.0</td>\n",
       "      <td>0.0</td>\n",
       "      <td>0.0</td>\n",
       "    </tr>\n",
       "    <tr>\n",
       "      <th>8</th>\n",
       "      <td>gottled01</td>\n",
       "      <td>1946</td>\n",
       "      <td>PHW</td>\n",
       "      <td>NBA</td>\n",
       "      <td>1</td>\n",
       "      <td>35.0</td>\n",
       "      <td>25.0</td>\n",
       "      <td>8.0</td>\n",
       "      <td>2.0</td>\n",
       "    </tr>\n",
       "    <tr>\n",
       "      <th>9</th>\n",
       "      <td>haymale01</td>\n",
       "      <td>1946</td>\n",
       "      <td>TRH</td>\n",
       "      <td>NBA</td>\n",
       "      <td>3</td>\n",
       "      <td>0.0</td>\n",
       "      <td>1.0</td>\n",
       "      <td>0.0</td>\n",
       "      <td>0.0</td>\n",
       "    </tr>\n",
       "  </tbody>\n",
       "</table>\n",
       "</div>"
      ],
      "text/plain": [
       "     coachID  year tmID  lgID  stint   won  lost  post_wins  post_losses\n",
       "0  johnsne01  1961  PGR  ABL1      1  41.0  40.0        0.0          1.0\n",
       "1  auerbre01  1946  WSC   NBA      1  49.0  11.0        2.0          4.0\n",
       "2  birchpa01  1946  PIT   NBA      1  15.0  45.0        0.0          0.0\n",
       "3  cliffro01  1946  CLR   NBA      2  13.0  10.0        1.0          2.0\n",
       "4  cohalne01  1946  NYK   NBA      1  33.0  27.0        2.0          3.0\n",
       "5  curtigl01  1946  DTF   NBA      1  12.0  22.0        0.0          0.0\n",
       "6  dehnere01  1946  CLR   NBA      1  17.0  20.0        0.0          0.0\n",
       "7  fitzgdi01  1946  TRH   NBA      1   2.0   1.0        0.0          0.0\n",
       "8  gottled01  1946  PHW   NBA      1  35.0  25.0        8.0          2.0\n",
       "9  haymale01  1946  TRH   NBA      3   0.0   1.0        0.0          0.0"
      ]
     },
     "execution_count": 1,
     "metadata": {},
     "output_type": "execute_result"
    }
   ],
   "source": [
    "import pandas as pd\n",
    "coaches_data=pd.read_csv(\"basketball_coaches.csv\") #reading NBA coaches which is my first data set\n",
    "coaches_data.head(10)"
   ]
  },
  {
   "cell_type": "code",
   "execution_count": 40,
   "metadata": {},
   "outputs": [
    {
     "name": "stderr",
     "output_type": "stream",
     "text": [
      "C:\\ProgramData\\Anaconda3\\lib\\site-packages\\IPython\\core\\interactiveshell.py:2728: DtypeWarning: Columns (41) have mixed types. Specify dtype option on import or set low_memory=False.\n",
      "  interactivity=interactivity, compiler=compiler, result=result)\n"
     ]
    },
    {
     "data": {
      "text/html": [
       "<div>\n",
       "<style scoped>\n",
       "    .dataframe tbody tr th:only-of-type {\n",
       "        vertical-align: middle;\n",
       "    }\n",
       "\n",
       "    .dataframe tbody tr th {\n",
       "        vertical-align: top;\n",
       "    }\n",
       "\n",
       "    .dataframe thead th {\n",
       "        text-align: right;\n",
       "    }\n",
       "</style>\n",
       "<table border=\"1\" class=\"dataframe\">\n",
       "  <thead>\n",
       "    <tr style=\"text-align: right;\">\n",
       "      <th></th>\n",
       "      <th>playerID</th>\n",
       "      <th>year</th>\n",
       "      <th>stint</th>\n",
       "      <th>tmID</th>\n",
       "      <th>lgID</th>\n",
       "      <th>GP</th>\n",
       "      <th>GS</th>\n",
       "      <th>minutes</th>\n",
       "      <th>points</th>\n",
       "      <th>oRebounds</th>\n",
       "      <th>...</th>\n",
       "      <th>PostBlocks</th>\n",
       "      <th>PostTurnovers</th>\n",
       "      <th>PostPF</th>\n",
       "      <th>PostfgAttempted</th>\n",
       "      <th>PostfgMade</th>\n",
       "      <th>PostftAttempted</th>\n",
       "      <th>PostftMade</th>\n",
       "      <th>PostthreeAttempted</th>\n",
       "      <th>PostthreeMade</th>\n",
       "      <th>note</th>\n",
       "    </tr>\n",
       "  </thead>\n",
       "  <tbody>\n",
       "    <tr>\n",
       "      <th>0</th>\n",
       "      <td>abramjo01</td>\n",
       "      <td>1946</td>\n",
       "      <td>1</td>\n",
       "      <td>PIT</td>\n",
       "      <td>NBA</td>\n",
       "      <td>47</td>\n",
       "      <td>0</td>\n",
       "      <td>0</td>\n",
       "      <td>527</td>\n",
       "      <td>0</td>\n",
       "      <td>...</td>\n",
       "      <td>0</td>\n",
       "      <td>0</td>\n",
       "      <td>0</td>\n",
       "      <td>0</td>\n",
       "      <td>0</td>\n",
       "      <td>0</td>\n",
       "      <td>0</td>\n",
       "      <td>0</td>\n",
       "      <td>0</td>\n",
       "      <td>NaN</td>\n",
       "    </tr>\n",
       "    <tr>\n",
       "      <th>1</th>\n",
       "      <td>aubucch01</td>\n",
       "      <td>1946</td>\n",
       "      <td>1</td>\n",
       "      <td>DTF</td>\n",
       "      <td>NBA</td>\n",
       "      <td>30</td>\n",
       "      <td>0</td>\n",
       "      <td>0</td>\n",
       "      <td>65</td>\n",
       "      <td>0</td>\n",
       "      <td>...</td>\n",
       "      <td>0</td>\n",
       "      <td>0</td>\n",
       "      <td>0</td>\n",
       "      <td>0</td>\n",
       "      <td>0</td>\n",
       "      <td>0</td>\n",
       "      <td>0</td>\n",
       "      <td>0</td>\n",
       "      <td>0</td>\n",
       "      <td>NaN</td>\n",
       "    </tr>\n",
       "    <tr>\n",
       "      <th>2</th>\n",
       "      <td>bakerno01</td>\n",
       "      <td>1946</td>\n",
       "      <td>1</td>\n",
       "      <td>CHS</td>\n",
       "      <td>NBA</td>\n",
       "      <td>4</td>\n",
       "      <td>0</td>\n",
       "      <td>0</td>\n",
       "      <td>0</td>\n",
       "      <td>0</td>\n",
       "      <td>...</td>\n",
       "      <td>0</td>\n",
       "      <td>0</td>\n",
       "      <td>0</td>\n",
       "      <td>0</td>\n",
       "      <td>0</td>\n",
       "      <td>0</td>\n",
       "      <td>0</td>\n",
       "      <td>0</td>\n",
       "      <td>0</td>\n",
       "      <td>NaN</td>\n",
       "    </tr>\n",
       "    <tr>\n",
       "      <th>3</th>\n",
       "      <td>baltihe01</td>\n",
       "      <td>1946</td>\n",
       "      <td>1</td>\n",
       "      <td>STB</td>\n",
       "      <td>NBA</td>\n",
       "      <td>58</td>\n",
       "      <td>0</td>\n",
       "      <td>0</td>\n",
       "      <td>138</td>\n",
       "      <td>0</td>\n",
       "      <td>...</td>\n",
       "      <td>0</td>\n",
       "      <td>0</td>\n",
       "      <td>3</td>\n",
       "      <td>10</td>\n",
       "      <td>2</td>\n",
       "      <td>1</td>\n",
       "      <td>0</td>\n",
       "      <td>0</td>\n",
       "      <td>0</td>\n",
       "      <td>NaN</td>\n",
       "    </tr>\n",
       "    <tr>\n",
       "      <th>4</th>\n",
       "      <td>barrjo01</td>\n",
       "      <td>1946</td>\n",
       "      <td>1</td>\n",
       "      <td>STB</td>\n",
       "      <td>NBA</td>\n",
       "      <td>58</td>\n",
       "      <td>0</td>\n",
       "      <td>0</td>\n",
       "      <td>295</td>\n",
       "      <td>0</td>\n",
       "      <td>...</td>\n",
       "      <td>0</td>\n",
       "      <td>0</td>\n",
       "      <td>0</td>\n",
       "      <td>0</td>\n",
       "      <td>0</td>\n",
       "      <td>0</td>\n",
       "      <td>0</td>\n",
       "      <td>0</td>\n",
       "      <td>0</td>\n",
       "      <td>NaN</td>\n",
       "    </tr>\n",
       "    <tr>\n",
       "      <th>5</th>\n",
       "      <td>baumhfr01</td>\n",
       "      <td>1946</td>\n",
       "      <td>1</td>\n",
       "      <td>CLR</td>\n",
       "      <td>NBA</td>\n",
       "      <td>45</td>\n",
       "      <td>0</td>\n",
       "      <td>0</td>\n",
       "      <td>631</td>\n",
       "      <td>0</td>\n",
       "      <td>...</td>\n",
       "      <td>0</td>\n",
       "      <td>0</td>\n",
       "      <td>0</td>\n",
       "      <td>0</td>\n",
       "      <td>0</td>\n",
       "      <td>0</td>\n",
       "      <td>0</td>\n",
       "      <td>0</td>\n",
       "      <td>0</td>\n",
       "      <td>NaN</td>\n",
       "    </tr>\n",
       "    <tr>\n",
       "      <th>6</th>\n",
       "      <td>beckemo01</td>\n",
       "      <td>1946</td>\n",
       "      <td>1</td>\n",
       "      <td>PIT</td>\n",
       "      <td>NBA</td>\n",
       "      <td>17</td>\n",
       "      <td>0</td>\n",
       "      <td>0</td>\n",
       "      <td>108</td>\n",
       "      <td>0</td>\n",
       "      <td>...</td>\n",
       "      <td>0</td>\n",
       "      <td>0</td>\n",
       "      <td>0</td>\n",
       "      <td>0</td>\n",
       "      <td>0</td>\n",
       "      <td>0</td>\n",
       "      <td>0</td>\n",
       "      <td>0</td>\n",
       "      <td>0</td>\n",
       "      <td>NaN</td>\n",
       "    </tr>\n",
       "    <tr>\n",
       "      <th>7</th>\n",
       "      <td>beckemo01</td>\n",
       "      <td>1946</td>\n",
       "      <td>2</td>\n",
       "      <td>BOS</td>\n",
       "      <td>NBA</td>\n",
       "      <td>6</td>\n",
       "      <td>0</td>\n",
       "      <td>0</td>\n",
       "      <td>13</td>\n",
       "      <td>0</td>\n",
       "      <td>...</td>\n",
       "      <td>0</td>\n",
       "      <td>0</td>\n",
       "      <td>0</td>\n",
       "      <td>0</td>\n",
       "      <td>0</td>\n",
       "      <td>0</td>\n",
       "      <td>0</td>\n",
       "      <td>0</td>\n",
       "      <td>0</td>\n",
       "      <td>NaN</td>\n",
       "    </tr>\n",
       "    <tr>\n",
       "      <th>8</th>\n",
       "      <td>beckemo01</td>\n",
       "      <td>1946</td>\n",
       "      <td>3</td>\n",
       "      <td>DTF</td>\n",
       "      <td>NBA</td>\n",
       "      <td>20</td>\n",
       "      <td>0</td>\n",
       "      <td>0</td>\n",
       "      <td>41</td>\n",
       "      <td>0</td>\n",
       "      <td>...</td>\n",
       "      <td>0</td>\n",
       "      <td>0</td>\n",
       "      <td>0</td>\n",
       "      <td>0</td>\n",
       "      <td>0</td>\n",
       "      <td>0</td>\n",
       "      <td>0</td>\n",
       "      <td>0</td>\n",
       "      <td>0</td>\n",
       "      <td>NaN</td>\n",
       "    </tr>\n",
       "    <tr>\n",
       "      <th>9</th>\n",
       "      <td>beendha01</td>\n",
       "      <td>1946</td>\n",
       "      <td>1</td>\n",
       "      <td>PRO</td>\n",
       "      <td>NBA</td>\n",
       "      <td>58</td>\n",
       "      <td>0</td>\n",
       "      <td>0</td>\n",
       "      <td>713</td>\n",
       "      <td>0</td>\n",
       "      <td>...</td>\n",
       "      <td>0</td>\n",
       "      <td>0</td>\n",
       "      <td>0</td>\n",
       "      <td>0</td>\n",
       "      <td>0</td>\n",
       "      <td>0</td>\n",
       "      <td>0</td>\n",
       "      <td>0</td>\n",
       "      <td>0</td>\n",
       "      <td>NaN</td>\n",
       "    </tr>\n",
       "  </tbody>\n",
       "</table>\n",
       "<p>10 rows × 42 columns</p>\n",
       "</div>"
      ],
      "text/plain": [
       "    playerID  year  stint tmID lgID  GP  GS  minutes  points  oRebounds  ...   \\\n",
       "0  abramjo01  1946      1  PIT  NBA  47   0        0     527          0  ...    \n",
       "1  aubucch01  1946      1  DTF  NBA  30   0        0      65          0  ...    \n",
       "2  bakerno01  1946      1  CHS  NBA   4   0        0       0          0  ...    \n",
       "3  baltihe01  1946      1  STB  NBA  58   0        0     138          0  ...    \n",
       "4   barrjo01  1946      1  STB  NBA  58   0        0     295          0  ...    \n",
       "5  baumhfr01  1946      1  CLR  NBA  45   0        0     631          0  ...    \n",
       "6  beckemo01  1946      1  PIT  NBA  17   0        0     108          0  ...    \n",
       "7  beckemo01  1946      2  BOS  NBA   6   0        0      13          0  ...    \n",
       "8  beckemo01  1946      3  DTF  NBA  20   0        0      41          0  ...    \n",
       "9  beendha01  1946      1  PRO  NBA  58   0        0     713          0  ...    \n",
       "\n",
       "   PostBlocks  PostTurnovers  PostPF  PostfgAttempted  PostfgMade  \\\n",
       "0           0              0       0                0           0   \n",
       "1           0              0       0                0           0   \n",
       "2           0              0       0                0           0   \n",
       "3           0              0       3               10           2   \n",
       "4           0              0       0                0           0   \n",
       "5           0              0       0                0           0   \n",
       "6           0              0       0                0           0   \n",
       "7           0              0       0                0           0   \n",
       "8           0              0       0                0           0   \n",
       "9           0              0       0                0           0   \n",
       "\n",
       "   PostftAttempted  PostftMade  PostthreeAttempted  PostthreeMade  note  \n",
       "0                0           0                   0              0   NaN  \n",
       "1                0           0                   0              0   NaN  \n",
       "2                0           0                   0              0   NaN  \n",
       "3                1           0                   0              0   NaN  \n",
       "4                0           0                   0              0   NaN  \n",
       "5                0           0                   0              0   NaN  \n",
       "6                0           0                   0              0   NaN  \n",
       "7                0           0                   0              0   NaN  \n",
       "8                0           0                   0              0   NaN  \n",
       "9                0           0                   0              0   NaN  \n",
       "\n",
       "[10 rows x 42 columns]"
      ]
     },
     "execution_count": 40,
     "metadata": {},
     "output_type": "execute_result"
    }
   ],
   "source": [
    "players_data=pd.read_csv(\"basketball_players.csv\") #reading NBA players which is my second data set\n",
    "players_data.head(10)"
   ]
  },
  {
   "cell_type": "markdown",
   "metadata": {},
   "source": [
    "I select specific columns from players and coaches datasets. I want to use them in hypothesis "
   ]
  },
  {
   "cell_type": "code",
   "execution_count": 3,
   "metadata": {},
   "outputs": [
    {
     "data": {
      "text/html": [
       "<div>\n",
       "<style scoped>\n",
       "    .dataframe tbody tr th:only-of-type {\n",
       "        vertical-align: middle;\n",
       "    }\n",
       "\n",
       "    .dataframe tbody tr th {\n",
       "        vertical-align: top;\n",
       "    }\n",
       "\n",
       "    .dataframe thead th {\n",
       "        text-align: right;\n",
       "    }\n",
       "</style>\n",
       "<table border=\"1\" class=\"dataframe\">\n",
       "  <thead>\n",
       "    <tr style=\"text-align: right;\">\n",
       "      <th></th>\n",
       "      <th>coachID</th>\n",
       "      <th>year</th>\n",
       "      <th>tmID</th>\n",
       "      <th>lost</th>\n",
       "    </tr>\n",
       "  </thead>\n",
       "  <tbody>\n",
       "    <tr>\n",
       "      <th>0</th>\n",
       "      <td>johnsne01</td>\n",
       "      <td>1961</td>\n",
       "      <td>PGR</td>\n",
       "      <td>40.0</td>\n",
       "    </tr>\n",
       "    <tr>\n",
       "      <th>1</th>\n",
       "      <td>auerbre01</td>\n",
       "      <td>1946</td>\n",
       "      <td>WSC</td>\n",
       "      <td>11.0</td>\n",
       "    </tr>\n",
       "    <tr>\n",
       "      <th>2</th>\n",
       "      <td>birchpa01</td>\n",
       "      <td>1946</td>\n",
       "      <td>PIT</td>\n",
       "      <td>45.0</td>\n",
       "    </tr>\n",
       "    <tr>\n",
       "      <th>3</th>\n",
       "      <td>cliffro01</td>\n",
       "      <td>1946</td>\n",
       "      <td>CLR</td>\n",
       "      <td>10.0</td>\n",
       "    </tr>\n",
       "    <tr>\n",
       "      <th>4</th>\n",
       "      <td>cohalne01</td>\n",
       "      <td>1946</td>\n",
       "      <td>NYK</td>\n",
       "      <td>27.0</td>\n",
       "    </tr>\n",
       "    <tr>\n",
       "      <th>5</th>\n",
       "      <td>curtigl01</td>\n",
       "      <td>1946</td>\n",
       "      <td>DTF</td>\n",
       "      <td>22.0</td>\n",
       "    </tr>\n",
       "    <tr>\n",
       "      <th>6</th>\n",
       "      <td>dehnere01</td>\n",
       "      <td>1946</td>\n",
       "      <td>CLR</td>\n",
       "      <td>20.0</td>\n",
       "    </tr>\n",
       "    <tr>\n",
       "      <th>7</th>\n",
       "      <td>fitzgdi01</td>\n",
       "      <td>1946</td>\n",
       "      <td>TRH</td>\n",
       "      <td>1.0</td>\n",
       "    </tr>\n",
       "    <tr>\n",
       "      <th>8</th>\n",
       "      <td>gottled01</td>\n",
       "      <td>1946</td>\n",
       "      <td>PHW</td>\n",
       "      <td>25.0</td>\n",
       "    </tr>\n",
       "    <tr>\n",
       "      <th>9</th>\n",
       "      <td>haymale01</td>\n",
       "      <td>1946</td>\n",
       "      <td>TRH</td>\n",
       "      <td>1.0</td>\n",
       "    </tr>\n",
       "  </tbody>\n",
       "</table>\n",
       "</div>"
      ],
      "text/plain": [
       "     coachID  year tmID  lost\n",
       "0  johnsne01  1961  PGR  40.0\n",
       "1  auerbre01  1946  WSC  11.0\n",
       "2  birchpa01  1946  PIT  45.0\n",
       "3  cliffro01  1946  CLR  10.0\n",
       "4  cohalne01  1946  NYK  27.0\n",
       "5  curtigl01  1946  DTF  22.0\n",
       "6  dehnere01  1946  CLR  20.0\n",
       "7  fitzgdi01  1946  TRH   1.0\n",
       "8  gottled01  1946  PHW  25.0\n",
       "9  haymale01  1946  TRH   1.0"
      ]
     },
     "execution_count": 3,
     "metadata": {},
     "output_type": "execute_result"
    }
   ],
   "source": [
    "coaches_data=coaches_data[[\"coachID\", \"year\", \"tmID\", \"lost\"]]\n",
    "coaches_data.head(10)"
   ]
  },
  {
   "cell_type": "code",
   "execution_count": 4,
   "metadata": {},
   "outputs": [
    {
     "data": {
      "text/html": [
       "<div>\n",
       "<style scoped>\n",
       "    .dataframe tbody tr th:only-of-type {\n",
       "        vertical-align: middle;\n",
       "    }\n",
       "\n",
       "    .dataframe tbody tr th {\n",
       "        vertical-align: top;\n",
       "    }\n",
       "\n",
       "    .dataframe thead th {\n",
       "        text-align: right;\n",
       "    }\n",
       "</style>\n",
       "<table border=\"1\" class=\"dataframe\">\n",
       "  <thead>\n",
       "    <tr style=\"text-align: right;\">\n",
       "      <th></th>\n",
       "      <th>playerID</th>\n",
       "      <th>year</th>\n",
       "      <th>tmID</th>\n",
       "      <th>assists</th>\n",
       "    </tr>\n",
       "  </thead>\n",
       "  <tbody>\n",
       "    <tr>\n",
       "      <th>0</th>\n",
       "      <td>abramjo01</td>\n",
       "      <td>1946</td>\n",
       "      <td>PIT</td>\n",
       "      <td>35</td>\n",
       "    </tr>\n",
       "    <tr>\n",
       "      <th>1</th>\n",
       "      <td>aubucch01</td>\n",
       "      <td>1946</td>\n",
       "      <td>DTF</td>\n",
       "      <td>20</td>\n",
       "    </tr>\n",
       "    <tr>\n",
       "      <th>2</th>\n",
       "      <td>bakerno01</td>\n",
       "      <td>1946</td>\n",
       "      <td>CHS</td>\n",
       "      <td>0</td>\n",
       "    </tr>\n",
       "    <tr>\n",
       "      <th>3</th>\n",
       "      <td>baltihe01</td>\n",
       "      <td>1946</td>\n",
       "      <td>STB</td>\n",
       "      <td>16</td>\n",
       "    </tr>\n",
       "    <tr>\n",
       "      <th>4</th>\n",
       "      <td>barrjo01</td>\n",
       "      <td>1946</td>\n",
       "      <td>STB</td>\n",
       "      <td>54</td>\n",
       "    </tr>\n",
       "    <tr>\n",
       "      <th>5</th>\n",
       "      <td>baumhfr01</td>\n",
       "      <td>1946</td>\n",
       "      <td>CLR</td>\n",
       "      <td>54</td>\n",
       "    </tr>\n",
       "    <tr>\n",
       "      <th>6</th>\n",
       "      <td>beckemo01</td>\n",
       "      <td>1946</td>\n",
       "      <td>PIT</td>\n",
       "      <td>14</td>\n",
       "    </tr>\n",
       "    <tr>\n",
       "      <th>7</th>\n",
       "      <td>beckemo01</td>\n",
       "      <td>1946</td>\n",
       "      <td>BOS</td>\n",
       "      <td>1</td>\n",
       "    </tr>\n",
       "    <tr>\n",
       "      <th>8</th>\n",
       "      <td>beckemo01</td>\n",
       "      <td>1946</td>\n",
       "      <td>DTF</td>\n",
       "      <td>15</td>\n",
       "    </tr>\n",
       "    <tr>\n",
       "      <th>9</th>\n",
       "      <td>beendha01</td>\n",
       "      <td>1946</td>\n",
       "      <td>PRO</td>\n",
       "      <td>37</td>\n",
       "    </tr>\n",
       "  </tbody>\n",
       "</table>\n",
       "</div>"
      ],
      "text/plain": [
       "    playerID  year tmID  assists\n",
       "0  abramjo01  1946  PIT       35\n",
       "1  aubucch01  1946  DTF       20\n",
       "2  bakerno01  1946  CHS        0\n",
       "3  baltihe01  1946  STB       16\n",
       "4   barrjo01  1946  STB       54\n",
       "5  baumhfr01  1946  CLR       54\n",
       "6  beckemo01  1946  PIT       14\n",
       "7  beckemo01  1946  BOS        1\n",
       "8  beckemo01  1946  DTF       15\n",
       "9  beendha01  1946  PRO       37"
      ]
     },
     "execution_count": 4,
     "metadata": {},
     "output_type": "execute_result"
    }
   ],
   "source": [
    "players_data=players_data[[\"playerID\", \"year\", \"tmID\",  \"assists\"]]\n",
    "players_data.head(10)"
   ]
  },
  {
   "cell_type": "code",
   "execution_count": 41,
   "metadata": {},
   "outputs": [
    {
     "data": {
      "text/html": [
       "<div>\n",
       "<style scoped>\n",
       "    .dataframe tbody tr th:only-of-type {\n",
       "        vertical-align: middle;\n",
       "    }\n",
       "\n",
       "    .dataframe tbody tr th {\n",
       "        vertical-align: top;\n",
       "    }\n",
       "\n",
       "    .dataframe thead th {\n",
       "        text-align: right;\n",
       "    }\n",
       "</style>\n",
       "<table border=\"1\" class=\"dataframe\">\n",
       "  <thead>\n",
       "    <tr style=\"text-align: right;\">\n",
       "      <th></th>\n",
       "      <th></th>\n",
       "      <th>tmID</th>\n",
       "      <th>year</th>\n",
       "      <th>assists</th>\n",
       "    </tr>\n",
       "    <tr>\n",
       "      <th>year</th>\n",
       "      <th>tmID</th>\n",
       "      <th></th>\n",
       "      <th></th>\n",
       "      <th></th>\n",
       "    </tr>\n",
       "  </thead>\n",
       "  <tbody>\n",
       "    <tr>\n",
       "      <th rowspan=\"13\" valign=\"top\">1937</th>\n",
       "      <th>AFS</th>\n",
       "      <td>AFS</td>\n",
       "      <td>1937</td>\n",
       "      <td>0.0</td>\n",
       "    </tr>\n",
       "    <tr>\n",
       "      <th>AGW</th>\n",
       "      <td>AGW</td>\n",
       "      <td>1937</td>\n",
       "      <td>0.0</td>\n",
       "    </tr>\n",
       "    <tr>\n",
       "      <th>BFB</th>\n",
       "      <td>BFB</td>\n",
       "      <td>1937</td>\n",
       "      <td>0.0</td>\n",
       "    </tr>\n",
       "    <tr>\n",
       "      <th>CNC</th>\n",
       "      <td>CNC</td>\n",
       "      <td>1937</td>\n",
       "      <td>0.0</td>\n",
       "    </tr>\n",
       "    <tr>\n",
       "      <th>COL</th>\n",
       "      <td>COL</td>\n",
       "      <td>1937</td>\n",
       "      <td>0.0</td>\n",
       "    </tr>\n",
       "    <tr>\n",
       "      <th>DYM</th>\n",
       "      <td>DYM</td>\n",
       "      <td>1937</td>\n",
       "      <td>0.0</td>\n",
       "    </tr>\n",
       "    <tr>\n",
       "      <th>FWE</th>\n",
       "      <td>FWE</td>\n",
       "      <td>1937</td>\n",
       "      <td>0.0</td>\n",
       "    </tr>\n",
       "    <tr>\n",
       "      <th>INK</th>\n",
       "      <td>INK</td>\n",
       "      <td>1937</td>\n",
       "      <td>0.0</td>\n",
       "    </tr>\n",
       "    <tr>\n",
       "      <th>KNK</th>\n",
       "      <td>KNK</td>\n",
       "      <td>1937</td>\n",
       "      <td>0.0</td>\n",
       "    </tr>\n",
       "    <tr>\n",
       "      <th>OSH</th>\n",
       "      <td>OSH</td>\n",
       "      <td>1937</td>\n",
       "      <td>0.0</td>\n",
       "    </tr>\n",
       "    <tr>\n",
       "      <th>PGP</th>\n",
       "      <td>PGP</td>\n",
       "      <td>1937</td>\n",
       "      <td>0.0</td>\n",
       "    </tr>\n",
       "    <tr>\n",
       "      <th>WAR</th>\n",
       "      <td>WAR</td>\n",
       "      <td>1937</td>\n",
       "      <td>0.0</td>\n",
       "    </tr>\n",
       "    <tr>\n",
       "      <th>WHT</th>\n",
       "      <td>WHT</td>\n",
       "      <td>1937</td>\n",
       "      <td>0.0</td>\n",
       "    </tr>\n",
       "    <tr>\n",
       "      <th rowspan=\"2\" valign=\"top\">1938</th>\n",
       "      <th>AFS</th>\n",
       "      <td>AFS</td>\n",
       "      <td>1938</td>\n",
       "      <td>0.0</td>\n",
       "    </tr>\n",
       "    <tr>\n",
       "      <th>AGW</th>\n",
       "      <td>AGW</td>\n",
       "      <td>1938</td>\n",
       "      <td>0.0</td>\n",
       "    </tr>\n",
       "  </tbody>\n",
       "</table>\n",
       "</div>"
      ],
      "text/plain": [
       "          tmID  year  assists\n",
       "year tmID                    \n",
       "1937 AFS   AFS  1937      0.0\n",
       "     AGW   AGW  1937      0.0\n",
       "     BFB   BFB  1937      0.0\n",
       "     CNC   CNC  1937      0.0\n",
       "     COL   COL  1937      0.0\n",
       "     DYM   DYM  1937      0.0\n",
       "     FWE   FWE  1937      0.0\n",
       "     INK   INK  1937      0.0\n",
       "     KNK   KNK  1937      0.0\n",
       "     OSH   OSH  1937      0.0\n",
       "     PGP   PGP  1937      0.0\n",
       "     WAR   WAR  1937      0.0\n",
       "     WHT   WHT  1937      0.0\n",
       "1938 AFS   AFS  1938      0.0\n",
       "     AGW   AGW  1938      0.0"
      ]
     },
     "execution_count": 41,
     "metadata": {},
     "output_type": "execute_result"
    }
   ],
   "source": [
    "#finding avarage of assists by groupping year and team id\n",
    "assists_data = players_data.groupby([\"year\", \"tmID\"]).agg({\"tmID\": \"min\", \"year\": \"min\", \"assists\": \"mean\"})\n",
    "assists_data.head(15) "
   ]
  },
  {
   "cell_type": "code",
   "execution_count": 6,
   "metadata": {},
   "outputs": [
    {
     "data": {
      "text/plain": [
       "count    1536.000000\n",
       "mean      109.375715\n",
       "std        45.103182\n",
       "min         0.000000\n",
       "25%        91.553258\n",
       "50%       115.882353\n",
       "75%       139.425000\n",
       "max       222.727273\n",
       "Name: assists, dtype: float64"
      ]
     },
     "execution_count": 6,
     "metadata": {},
     "output_type": "execute_result"
    }
   ],
   "source": [
    "assists_data.describe()[\"assists\"] #information about dataframe of assists"
   ]
  },
  {
   "cell_type": "code",
   "execution_count": 7,
   "metadata": {},
   "outputs": [
    {
     "data": {
      "text/plain": [
       "(1536, 3)"
      ]
     },
     "execution_count": 7,
     "metadata": {},
     "output_type": "execute_result"
    }
   ],
   "source": [
    "assists_data.shape #information about dataframe of assists"
   ]
  },
  {
   "cell_type": "code",
   "execution_count": 8,
   "metadata": {},
   "outputs": [
    {
     "data": {
      "text/plain": [
       "count    1680.000000\n",
       "mean       33.286905\n",
       "std        14.715967\n",
       "min         0.000000\n",
       "25%        23.000000\n",
       "50%        33.000000\n",
       "75%        43.000000\n",
       "max        71.000000\n",
       "Name: lost, dtype: float64"
      ]
     },
     "execution_count": 8,
     "metadata": {},
     "output_type": "execute_result"
    }
   ],
   "source": [
    "coaches_data.describe()[\"lost\"] #information about dataframe of coaches"
   ]
  },
  {
   "cell_type": "code",
   "execution_count": 9,
   "metadata": {},
   "outputs": [
    {
     "data": {
      "text/plain": [
       "(1689, 4)"
      ]
     },
     "execution_count": 9,
     "metadata": {},
     "output_type": "execute_result"
    }
   ],
   "source": [
    "coaches_data.shape #information about dataframe of coaches"
   ]
  },
  {
   "cell_type": "markdown",
   "metadata": {},
   "source": [
    "#### Section 3"
   ]
  },
  {
   "cell_type": "code",
   "execution_count": 10,
   "metadata": {},
   "outputs": [
    {
     "data": {
      "text/html": [
       "<div>\n",
       "<style scoped>\n",
       "    .dataframe tbody tr th:only-of-type {\n",
       "        vertical-align: middle;\n",
       "    }\n",
       "\n",
       "    .dataframe tbody tr th {\n",
       "        vertical-align: top;\n",
       "    }\n",
       "\n",
       "    .dataframe thead th {\n",
       "        text-align: right;\n",
       "    }\n",
       "</style>\n",
       "<table border=\"1\" class=\"dataframe\">\n",
       "  <thead>\n",
       "    <tr style=\"text-align: right;\">\n",
       "      <th></th>\n",
       "      <th>coachID</th>\n",
       "      <th>year</th>\n",
       "      <th>tmID</th>\n",
       "      <th>lost</th>\n",
       "      <th>assists</th>\n",
       "    </tr>\n",
       "  </thead>\n",
       "  <tbody>\n",
       "    <tr>\n",
       "      <th>0</th>\n",
       "      <td>johnsne01</td>\n",
       "      <td>1961</td>\n",
       "      <td>PGR</td>\n",
       "      <td>40.0</td>\n",
       "      <td>59.700000</td>\n",
       "    </tr>\n",
       "    <tr>\n",
       "      <th>1</th>\n",
       "      <td>auerbre01</td>\n",
       "      <td>1946</td>\n",
       "      <td>WSC</td>\n",
       "      <td>11.0</td>\n",
       "      <td>27.000000</td>\n",
       "    </tr>\n",
       "    <tr>\n",
       "      <th>2</th>\n",
       "      <td>birchpa01</td>\n",
       "      <td>1946</td>\n",
       "      <td>PIT</td>\n",
       "      <td>45.0</td>\n",
       "      <td>16.000000</td>\n",
       "    </tr>\n",
       "    <tr>\n",
       "      <th>3</th>\n",
       "      <td>cliffro01</td>\n",
       "      <td>1946</td>\n",
       "      <td>CLR</td>\n",
       "      <td>10.0</td>\n",
       "      <td>27.444444</td>\n",
       "    </tr>\n",
       "    <tr>\n",
       "      <th>4</th>\n",
       "      <td>dehnere01</td>\n",
       "      <td>1946</td>\n",
       "      <td>CLR</td>\n",
       "      <td>20.0</td>\n",
       "      <td>27.444444</td>\n",
       "    </tr>\n",
       "    <tr>\n",
       "      <th>5</th>\n",
       "      <td>cohalne01</td>\n",
       "      <td>1946</td>\n",
       "      <td>NYK</td>\n",
       "      <td>27.0</td>\n",
       "      <td>22.850000</td>\n",
       "    </tr>\n",
       "    <tr>\n",
       "      <th>6</th>\n",
       "      <td>curtigl01</td>\n",
       "      <td>1946</td>\n",
       "      <td>DTF</td>\n",
       "      <td>22.0</td>\n",
       "      <td>32.133333</td>\n",
       "    </tr>\n",
       "    <tr>\n",
       "      <th>7</th>\n",
       "      <td>sachsph01</td>\n",
       "      <td>1946</td>\n",
       "      <td>DTF</td>\n",
       "      <td>18.0</td>\n",
       "      <td>32.133333</td>\n",
       "    </tr>\n",
       "    <tr>\n",
       "      <th>8</th>\n",
       "      <td>fitzgdi01</td>\n",
       "      <td>1946</td>\n",
       "      <td>TRH</td>\n",
       "      <td>1.0</td>\n",
       "      <td>23.100000</td>\n",
       "    </tr>\n",
       "    <tr>\n",
       "      <th>9</th>\n",
       "      <td>haymale01</td>\n",
       "      <td>1946</td>\n",
       "      <td>TRH</td>\n",
       "      <td>1.0</td>\n",
       "      <td>23.100000</td>\n",
       "    </tr>\n",
       "  </tbody>\n",
       "</table>\n",
       "</div>"
      ],
      "text/plain": [
       "     coachID  year tmID  lost    assists\n",
       "0  johnsne01  1961  PGR  40.0  59.700000\n",
       "1  auerbre01  1946  WSC  11.0  27.000000\n",
       "2  birchpa01  1946  PIT  45.0  16.000000\n",
       "3  cliffro01  1946  CLR  10.0  27.444444\n",
       "4  dehnere01  1946  CLR  20.0  27.444444\n",
       "5  cohalne01  1946  NYK  27.0  22.850000\n",
       "6  curtigl01  1946  DTF  22.0  32.133333\n",
       "7  sachsph01  1946  DTF  18.0  32.133333\n",
       "8  fitzgdi01  1946  TRH   1.0  23.100000\n",
       "9  haymale01  1946  TRH   1.0  23.100000"
      ]
     },
     "execution_count": 10,
     "metadata": {},
     "output_type": "execute_result"
    }
   ],
   "source": [
    "#merging dataframes with multiple columns by inner method that considers intersections\n",
    "merged_data = pd.merge(coaches_data, assists_data, how=\"inner\", left_on=[\"year\", \"tmID\"], right_on=[\"year\", \"tmID\"])\n",
    "merged_data.head(10)"
   ]
  },
  {
   "cell_type": "code",
   "execution_count": 11,
   "metadata": {},
   "outputs": [
    {
     "data": {
      "text/plain": [
       "(1689, 5)"
      ]
     },
     "execution_count": 11,
     "metadata": {},
     "output_type": "execute_result"
    }
   ],
   "source": [
    "merged_data.shape #information about dataframe of merged set"
   ]
  },
  {
   "cell_type": "markdown",
   "metadata": {},
   "source": [
    "In this part, there are some visuals to show my data"
   ]
  },
  {
   "cell_type": "code",
   "execution_count": 12,
   "metadata": {},
   "outputs": [
    {
     "name": "stdout",
     "output_type": "stream",
     "text": [
      "Populating the interactive namespace from numpy and matplotlib\n"
     ]
    },
    {
     "name": "stderr",
     "output_type": "stream",
     "text": [
      "C:\\ProgramData\\Anaconda3\\lib\\site-packages\\IPython\\core\\magics\\pylab.py:160: UserWarning: pylab import has clobbered these variables: ['plt']\n",
      "`%matplotlib` prevents importing * from pylab and numpy\n",
      "  \"\\n`%matplotlib` prevents importing * from pylab and numpy\"\n"
     ]
    }
   ],
   "source": [
    "import matplotlib.pylab as plt\n",
    "%pylab inline"
   ]
  },
  {
   "cell_type": "code",
   "execution_count": 13,
   "metadata": {},
   "outputs": [
    {
     "data": {
      "image/png": "[encoded data removed]",
      "text/plain": [
       "<matplotlib.figure.Figure at 0x271ede77f98>"
      ]
     },
     "metadata": {},
     "output_type": "display_data"
    }
   ],
   "source": [
    "#drawing bar figure for teams and assists which are scored in 1963\n",
    "pylab.rcParams[\"figure.figsize\"] = (20, 5)\n",
    "merged_data[merged_data.year == 1963].plot(kind=\"bar\", x=\"tmID\", y=\"assists\")\n",
    "plt.title(\"1963\")\n",
    "plt.xlabel(\"Team\")\n",
    "plt.ylabel(\"Scores\")\n",
    "plt.show()"
   ]
  },
  {
   "cell_type": "code",
   "execution_count": 48,
   "metadata": {},
   "outputs": [
    {
     "data": {
      "image/png": "[encoded data removed]",
      "text/plain": [
       "<matplotlib.figure.Figure at 0x271ef5522b0>"
      ]
     },
     "metadata": {},
     "output_type": "display_data"
    }
   ],
   "source": [
    "#drawing bar that shows coaches and games which are lost for Boston Celtics\n",
    "pylab.rcParams[\"figure.figsize\"] = (20, 5)\n",
    "merged_data[merged_data.tmID == \"BOS\"].plot(kind=\"bar\", x=\"coachID\", y=\"lost\")\n",
    "plt.title(\"Boston Celtics\")\n",
    "plt.xlabel(\"Coach\")\n",
    "plt.ylabel(\"Games\")\n",
    "plt.show()"
   ]
  },
  {
   "cell_type": "code",
   "execution_count": 39,
   "metadata": {},
   "outputs": [
    {
     "data": {
      "image/png": "[encoded data removed]",
      "text/plain": [
       "<matplotlib.figure.Figure at 0x271ee0ba2b0>"
      ]
     },
     "metadata": {},
     "output_type": "display_data"
    }
   ],
   "source": [
    "#drawing bar that shows assists for New York Knick scored per year\n",
    "pylab.rcParams[\"figure.figsize\"] = (20, 5)\n",
    "merged_data[merged_data.tmID == \"NYK\"].plot(kind=\"scatter\", x=\"year\", y=\"assists\")\n",
    "plt.title(\"New York Knick\")\n",
    "plt.xlabel(\"Years\")\n",
    "plt.ylabel(\"Scores\")\n",
    "plt.show()"
   ]
  },
  {
   "cell_type": "markdown",
   "metadata": {},
   "source": [
    "I plot histogram for number of games that are losted by coaches."
   ]
  },
  {
   "cell_type": "code",
   "execution_count": 22,
   "metadata": {},
   "outputs": [
    {
     "name": "stderr",
     "output_type": "stream",
     "text": [
      "No handles with labels found to put in legend.\n"
     ]
    },
    {
     "data": {
      "image/png": "[encoded data removed]",
      "text/plain": [
       "<matplotlib.figure.Figure at 0x271ef668550>"
      ]
     },
     "metadata": {},
     "output_type": "display_data"
    }
   ],
   "source": [
    "import thinkstats2, thinkplot\n",
    "#visualizing frequencies of number of losted games\n",
    "coaches_hist = thinkstats2.Hist(coaches_data.lost)\n",
    "thinkplot.Hist(coaches_hist)\n",
    "thinkplot.Config(title=\"Histogram\", xlabel=\"Losted Games\", ylabel=\"Frequency\")"
   ]
  },
  {
   "cell_type": "code",
   "execution_count": 42,
   "metadata": {},
   "outputs": [
    {
     "name": "stderr",
     "output_type": "stream",
     "text": [
      "No handles with labels found to put in legend.\n"
     ]
    },
    {
     "data": {
      "image/png": "[encoded data removed]",
      "text/plain": [
       "<matplotlib.figure.Figure at 0x271ef55b940>"
      ]
     },
     "metadata": {},
     "output_type": "display_data"
    }
   ],
   "source": [
    "#visualizing PMF of means of assists which are scored by players\n",
    "pmf_assists = thinkstats2.Pmf(assists_data.assists)\n",
    "pylab.rcParams[\"figure.figsize\"] = (30, 10)\n",
    "thinkplot.Pmf(pmf_assists)\n",
    "thinkplot.Config(title=\"PMF\", xlabel=\"Assists\")"
   ]
  },
  {
   "cell_type": "code",
   "execution_count": 43,
   "metadata": {},
   "outputs": [
    {
     "name": "stderr",
     "output_type": "stream",
     "text": [
      "No handles with labels found to put in legend.\n"
     ]
    },
    {
     "data": {
      "image/png": "[encoded data removed]",
      "text/plain": [
       "<matplotlib.figure.Figure at 0x271f0234c50>"
      ]
     },
     "metadata": {},
     "output_type": "display_data"
    }
   ],
   "source": [
    "#visualizing CDF of means of assists which are scored by players\n",
    "cdf_assists = thinkstats2.Cdf(assists_data.assists)\n",
    "pylab.rcParams[\"figure.figsize\"] = (20, 5)\n",
    "thinkplot.Cdf(cdf_assists)\n",
    "thinkplot.Config(title=\"CDF\", xlabel=\"Assists\")"
   ]
  },
  {
   "cell_type": "markdown",
   "metadata": {},
   "source": [
    "#### Section 4"
   ]
  },
  {
   "cell_type": "code",
   "execution_count": 44,
   "metadata": {},
   "outputs": [
    {
     "data": {
      "text/html": [
       "<table class=\"simpletable\">\n",
       "<caption>OLS Regression Results</caption>\n",
       "<tr>\n",
       "  <th>Dep. Variable:</th>          <td>lost</td>       <th>  R-squared:         </th> <td>   0.013</td> \n",
       "</tr>\n",
       "<tr>\n",
       "  <th>Model:</th>                   <td>OLS</td>       <th>  Adj. R-squared:    </th> <td>   0.013</td> \n",
       "</tr>\n",
       "<tr>\n",
       "  <th>Method:</th>             <td>Least Squares</td>  <th>  F-statistic:       </th> <td>   22.29</td> \n",
       "</tr>\n",
       "<tr>\n",
       "  <th>Date:</th>             <td>Sun, 03 Jun 2018</td> <th>  Prob (F-statistic):</th> <td>2.54e-06</td> \n",
       "</tr>\n",
       "<tr>\n",
       "  <th>Time:</th>                 <td>22:27:39</td>     <th>  Log-Likelihood:    </th> <td> -6889.6</td> \n",
       "</tr>\n",
       "<tr>\n",
       "  <th>No. Observations:</th>      <td>  1680</td>      <th>  AIC:               </th> <td>1.378e+04</td>\n",
       "</tr>\n",
       "<tr>\n",
       "  <th>Df Residuals:</th>          <td>  1678</td>      <th>  BIC:               </th> <td>1.379e+04</td>\n",
       "</tr>\n",
       "<tr>\n",
       "  <th>Df Model:</th>              <td>     1</td>      <th>                     </th>     <td> </td>    \n",
       "</tr>\n",
       "<tr>\n",
       "  <th>Covariance Type:</th>      <td>nonrobust</td>    <th>                     </th>     <td> </td>    \n",
       "</tr>\n",
       "</table>\n",
       "<table class=\"simpletable\">\n",
       "<tr>\n",
       "      <td></td>         <th>coef</th>     <th>std err</th>      <th>t</th>      <th>P>|t|</th>  <th>[0.025</th>    <th>0.975]</th>  \n",
       "</tr>\n",
       "<tr>\n",
       "  <th>Intercept</th> <td>   27.7144</td> <td>    1.233</td> <td>   22.476</td> <td> 0.000</td> <td>   25.296</td> <td>   30.133</td>\n",
       "</tr>\n",
       "<tr>\n",
       "  <th>assists</th>   <td>    0.0483</td> <td>    0.010</td> <td>    4.721</td> <td> 0.000</td> <td>    0.028</td> <td>    0.068</td>\n",
       "</tr>\n",
       "</table>\n",
       "<table class=\"simpletable\">\n",
       "<tr>\n",
       "  <th>Omnibus:</th>       <td>18.677</td> <th>  Durbin-Watson:     </th> <td>   1.819</td>\n",
       "</tr>\n",
       "<tr>\n",
       "  <th>Prob(Omnibus):</th> <td> 0.000</td> <th>  Jarque-Bera (JB):  </th> <td>  13.253</td>\n",
       "</tr>\n",
       "<tr>\n",
       "  <th>Skew:</th>          <td> 0.097</td> <th>  Prob(JB):          </th> <td> 0.00132</td>\n",
       "</tr>\n",
       "<tr>\n",
       "  <th>Kurtosis:</th>      <td> 2.611</td> <th>  Cond. No.          </th> <td>    417.</td>\n",
       "</tr>\n",
       "</table>"
      ],
      "text/plain": [
       "<class 'statsmodels.iolib.summary.Summary'>\n",
       "\"\"\"\n",
       "                            OLS Regression Results                            \n",
       "==============================================================================\n",
       "Dep. Variable:                   lost   R-squared:                       0.013\n",
       "Model:                            OLS   Adj. R-squared:                  0.013\n",
       "Method:                 Least Squares   F-statistic:                     22.29\n",
       "Date:                Sun, 03 Jun 2018   Prob (F-statistic):           2.54e-06\n",
       "Time:                        22:27:39   Log-Likelihood:                -6889.6\n",
       "No. Observations:                1680   AIC:                         1.378e+04\n",
       "Df Residuals:                    1678   BIC:                         1.379e+04\n",
       "Df Model:                           1                                         \n",
       "Covariance Type:            nonrobust                                         \n",
       "==============================================================================\n",
       "                 coef    std err          t      P>|t|      [0.025      0.975]\n",
       "------------------------------------------------------------------------------\n",
       "Intercept     27.7144      1.233     22.476      0.000      25.296      30.133\n",
       "assists        0.0483      0.010      4.721      0.000       0.028       0.068\n",
       "==============================================================================\n",
       "Omnibus:                       18.677   Durbin-Watson:                   1.819\n",
       "Prob(Omnibus):                  0.000   Jarque-Bera (JB):               13.253\n",
       "Skew:                           0.097   Prob(JB):                      0.00132\n",
       "Kurtosis:                       2.611   Cond. No.                         417.\n",
       "==============================================================================\n",
       "\n",
       "Warnings:\n",
       "[1] Standard Errors assume that the covariance matrix of the errors is correctly specified.\n",
       "\"\"\""
      ]
     },
     "execution_count": 44,
     "metadata": {},
     "output_type": "execute_result"
    }
   ],
   "source": [
    "#calculating R-squared and p-value by using losted games assists scored variables (dependent ~ explanatory)\n",
    "import statsmodels.formula.api as smf\n",
    "formula = \"lost ~ assists\"\n",
    "modelling = smf.ols(formula, data=merged_data)\n",
    "result = modelling.fit()\n",
    "result.summary()"
   ]
  },
  {
   "cell_type": "markdown",
   "metadata": {},
   "source": [
    "R-squared is 1.3%. Due to the fact that it is greater than 1% threshold, it means that line fits data."
   ]
  },
  {
   "cell_type": "markdown",
   "metadata": {},
   "source": [
    "#### Section 5"
   ]
  },
  {
   "cell_type": "code",
   "execution_count": 17,
   "metadata": {},
   "outputs": [
    {
     "data": {
      "text/html": [
       "<div>\n",
       "<style scoped>\n",
       "    .dataframe tbody tr th:only-of-type {\n",
       "        vertical-align: middle;\n",
       "    }\n",
       "\n",
       "    .dataframe tbody tr th {\n",
       "        vertical-align: top;\n",
       "    }\n",
       "\n",
       "    .dataframe thead th {\n",
       "        text-align: right;\n",
       "    }\n",
       "</style>\n",
       "<table border=\"1\" class=\"dataframe\">\n",
       "  <thead>\n",
       "    <tr style=\"text-align: right;\">\n",
       "      <th></th>\n",
       "      <th>lost</th>\n",
       "      <th>assists</th>\n",
       "    </tr>\n",
       "  </thead>\n",
       "  <tbody>\n",
       "    <tr>\n",
       "      <th>lost</th>\n",
       "      <td>1.000000</td>\n",
       "      <td>0.114497</td>\n",
       "    </tr>\n",
       "    <tr>\n",
       "      <th>assists</th>\n",
       "      <td>0.114497</td>\n",
       "      <td>1.000000</td>\n",
       "    </tr>\n",
       "  </tbody>\n",
       "</table>\n",
       "</div>"
      ],
      "text/plain": [
       "             lost   assists\n",
       "lost     1.000000  0.114497\n",
       "assists  0.114497  1.000000"
      ]
     },
     "execution_count": 17,
     "metadata": {},
     "output_type": "execute_result"
    }
   ],
   "source": [
    "#calculating correlation of losted games and assists scores variables\n",
    "cols = merged_data[[\"lost\", \"assists\"]]\n",
    "cols.corr()"
   ]
  },
  {
   "cell_type": "markdown",
   "metadata": {},
   "source": [
    "#### Section 6"
   ]
  },
  {
   "cell_type": "markdown",
   "metadata": {},
   "source": [
    "I calculate the means of merged and assists data"
   ]
  },
  {
   "cell_type": "code",
   "execution_count": 18,
   "metadata": {},
   "outputs": [
    {
     "data": {
      "text/plain": [
       "114.98199125993246"
      ]
     },
     "execution_count": 18,
     "metadata": {},
     "output_type": "execute_result"
    }
   ],
   "source": [
    "merged_data_mean=merged_data[\"assists\"].mean()\n",
    "merged_data_mean"
   ]
  },
  {
   "cell_type": "code",
   "execution_count": 19,
   "metadata": {},
   "outputs": [
    {
     "data": {
      "text/plain": [
       "109.3757147892138"
      ]
     },
     "execution_count": 19,
     "metadata": {},
     "output_type": "execute_result"
    }
   ],
   "source": [
    "assists_data_mean=assists_data[\"assists\"].mean()\n",
    "assists_data_mean"
   ]
  },
  {
   "cell_type": "code",
   "execution_count": 20,
   "metadata": {},
   "outputs": [
    {
     "data": {
      "text/plain": [
       "5.6062764707186545"
      ]
     },
     "execution_count": 20,
     "metadata": {},
     "output_type": "execute_result"
    }
   ],
   "source": [
    "#calculating the difference of means\n",
    "abs(assists_data_mean - merged_data_mean)"
   ]
  },
  {
   "cell_type": "markdown",
   "metadata": {},
   "source": [
    "By calculating difference of means of assists and merged datas, i calculate the test statistic for my hypotesis testing\n",
    "\n",
    "As it can be seen from the summary table above (OLS regression results), p value is smaller than threshold. So it is statistically significance, it does not occur by a chance"
   ]
  },
  {
   "cell_type": "markdown",
   "metadata": {},
   "source": [
    "#### Section 7"
   ]
  },
  {
   "cell_type": "markdown",
   "metadata": {},
   "source": [
    "In conclusion, my hypothesis illustrates that the average of the assists by the players are not negatively related to number of games which are losted by coaches in same years."
   ]
  }
 ],
 "metadata": {
  "kernelspec": {
   "display_name": "Python 3",
   "language": "python",
   "name": "python3"
  },
  "language_info": {
   "codemirror_mode": {
    "name": "ipython",
    "version": 3
   },
   "file_extension": ".py",
   "mimetype": "text/x-python",
   "name": "python",
   "nbconvert_exporter": "python",
   "pygments_lexer": "ipython3",
   "version": "3.6.4"
  }
 },
 "nbformat": 4,
 "nbformat_minor": 2
}
